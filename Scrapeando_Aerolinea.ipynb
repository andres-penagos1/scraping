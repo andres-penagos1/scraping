{
 "cells": [
  {
   "cell_type": "code",
   "execution_count": 1,
   "id": "099059c9",
   "metadata": {},
   "outputs": [
    {
     "name": "stdout",
     "output_type": "stream",
     "text": [
      "Requirement already satisfied: selenium in c:\\users\\user\\anaconda3\\lib\\site-packages (4.1.0)\n",
      "Requirement already satisfied: trio-websocket~=0.9 in c:\\users\\user\\anaconda3\\lib\\site-packages (from selenium) (0.9.2)\n",
      "Requirement already satisfied: trio~=0.17 in c:\\users\\user\\anaconda3\\lib\\site-packages (from selenium) (0.19.0)\n",
      "Requirement already satisfied: urllib3[secure]~=1.26 in c:\\users\\user\\anaconda3\\lib\\site-packages (from selenium) (1.26.4)\n",
      "Requirement already satisfied: idna in c:\\users\\user\\anaconda3\\lib\\site-packages (from trio~=0.17->selenium) (2.10)\n",
      "Requirement already satisfied: async-generator>=1.9 in c:\\users\\user\\anaconda3\\lib\\site-packages (from trio~=0.17->selenium) (1.10)\n",
      "Requirement already satisfied: attrs>=19.2.0 in c:\\users\\user\\anaconda3\\lib\\site-packages (from trio~=0.17->selenium) (20.3.0)\n",
      "Requirement already satisfied: outcome in c:\\users\\user\\anaconda3\\lib\\site-packages (from trio~=0.17->selenium) (1.1.0)\n",
      "Requirement already satisfied: sortedcontainers in c:\\users\\user\\anaconda3\\lib\\site-packages (from trio~=0.17->selenium) (2.3.0)\n",
      "Requirement already satisfied: cffi>=1.14 in c:\\users\\user\\anaconda3\\lib\\site-packages (from trio~=0.17->selenium) (1.14.5)\n",
      "Requirement already satisfied: sniffio in c:\\users\\user\\anaconda3\\lib\\site-packages (from trio~=0.17->selenium) (1.2.0)\n",
      "Requirement already satisfied: wsproto>=0.14 in c:\\users\\user\\anaconda3\\lib\\site-packages (from trio-websocket~=0.9->selenium) (1.0.0)\n",
      "Requirement already satisfied: certifi in c:\\users\\user\\anaconda3\\lib\\site-packages (from urllib3[secure]~=1.26->selenium) (2020.12.5)\n",
      "Requirement already satisfied: pyOpenSSL>=0.14 in c:\\users\\user\\anaconda3\\lib\\site-packages (from urllib3[secure]~=1.26->selenium) (20.0.1)\n",
      "Requirement already satisfied: cryptography>=1.3.4 in c:\\users\\user\\anaconda3\\lib\\site-packages (from urllib3[secure]~=1.26->selenium) (3.4.7)\n",
      "Requirement already satisfied: pycparser in c:\\users\\user\\anaconda3\\lib\\site-packages (from cffi>=1.14->trio~=0.17->selenium) (2.20)\n",
      "Requirement already satisfied: six>=1.5.2 in c:\\users\\user\\anaconda3\\lib\\site-packages (from pyOpenSSL>=0.14->urllib3[secure]~=1.26->selenium) (1.15.0)\n",
      "Requirement already satisfied: h11<1,>=0.9.0 in c:\\users\\user\\anaconda3\\lib\\site-packages (from wsproto>=0.14->trio-websocket~=0.9->selenium) (0.13.0)\n"
     ]
    },
    {
     "name": "stderr",
     "output_type": "stream",
     "text": [
      "WARNING: You are using pip version 21.3.1; however, version 22.0.3 is available.\n",
      "You should consider upgrading via the 'c:\\users\\user\\anaconda3\\python.exe -m pip install --upgrade pip' command.\n"
     ]
    }
   ],
   "source": [
    "import requests\n",
    "from bs4 import BeautifulSoup\n",
    "import time\n",
    "!pip install selenium"
   ]
  },
  {
   "cell_type": "code",
   "execution_count": 34,
   "id": "ffcee001",
   "metadata": {},
   "outputs": [],
   "source": [
    "url='https://www.latamairlines.com/co/es/ofertas-vuelos?dataFlight=%7B%22tripTypeSelected%22%3A%7B%22label%22%3A%22Solo+ida%22%2C%22value%22%3A%22OW%22%7D%2C%22cabinSelected%22%3A%7B%22label%22%3A%22Economy%22%2C%22value%22%3A%22Economy%22%7D%2C%22passengerSelected%22%3A%7B%22adultQuantity%22%3A1%2C%22childrenQuantity%22%3A0%2C%22infantQuantity%22%3A0%7D%2C%22originSelected%22%3A%7B%22id%22%3A%22BOG_CO_AIRPORT%22%2C%22name%22%3A%22El+Dorado+Intl.%22%2C%22city%22%3A%22Bogot%C3%A1%22%2C%22cityIsoCode%22%3A%22BOG%22%2C%22country%22%3A%22Colombia%22%2C%22iata%22%3A%22BOG%22%2C%22latitude%22%3A4.70159%2C%22longitude%22%3A-74.1469%2C%22timezone%22%3A-5%2C%22tz%22%3A%22America%2FBogota%22%2C%22type%22%3A%22AIRPORT%22%2C%22countryAlpha2%22%3A%22CO%22%2C%22allAirportsText%22%3Anull%2C%22airportIataCode%22%3A%22BOG%22%7D%2C%22destinationSelected%22%3A%7B%22id%22%3A%22MAD_ES_AIRPORT%22%2C%22name%22%3A%22Barajas+Intl.%22%2C%22city%22%3A%22Madrid%22%2C%22cityIsoCode%22%3A%22MAD%22%2C%22country%22%3A%22Espa%C3%B1a%22%2C%22iata%22%3A%22MAD%22%2C%22latitude%22%3A40.471926%2C%22longitude%22%3A-3.56264%2C%22timezone%22%3A1%2C%22tz%22%3A%22Europe%2FMadrid%22%2C%22type%22%3A%22AIRPORT%22%2C%22countryAlpha2%22%3A%22ES%22%2C%22allAirportsText%22%3Anull%2C%22airportIataCode%22%3A%22MAD%22%7D%2C%22dateGoSelected%22%3A%222022-03-24T17%3A00%3A00.000Z%22%2C%22dateReturnSelected%22%3Anull%2C%22redemption%22%3Afalse%7D'"
   ]
  },
  {
   "cell_type": "code",
   "execution_count": 35,
   "id": "ba8f0a43",
   "metadata": {},
   "outputs": [],
   "source": [
    "from selenium import webdriver"
   ]
  },
  {
   "cell_type": "code",
   "execution_count": 36,
   "id": "4f8bccf1",
   "metadata": {},
   "outputs": [
    {
     "name": "stderr",
     "output_type": "stream",
     "text": [
      "<ipython-input-36-02d564dbd76e>:3: DeprecationWarning: executable_path has been deprecated, please pass in a Service object\n",
      "  driver = webdriver.Chrome(executable_path='chromedriver.exe',options=options)\n"
     ]
    }
   ],
   "source": [
    "options= webdriver.ChromeOptions()\n",
    "options.add_argument('--incognito')\n",
    "driver = webdriver.Chrome(executable_path='chromedriver.exe',options=options)"
   ]
  },
  {
   "cell_type": "code",
   "execution_count": 37,
   "id": "7d6e2646",
   "metadata": {},
   "outputs": [],
   "source": [
    "driver.get(url)\n",
    "time.sleep(3)"
   ]
  },
  {
   "cell_type": "code",
   "execution_count": 38,
   "id": "b6162afc",
   "metadata": {},
   "outputs": [
    {
     "name": "stderr",
     "output_type": "stream",
     "text": [
      "<ipython-input-38-98b361589d1d>:1: DeprecationWarning: find_elements_by_* commands are deprecated. Please use find_elements() instead\n",
      "  vuelos=driver.find_elements_by_xpath('//li[@class=\"sc-cxZfpC gDSZdh\"]')\n"
     ]
    }
   ],
   "source": [
    "vuelos=driver.find_elements_by_xpath('//li[@class=\"sc-cxZfpC gDSZdh\"]')"
   ]
  },
  {
   "cell_type": "code",
   "execution_count": 39,
   "id": "3f440355",
   "metadata": {},
   "outputs": [],
   "source": [
    "lista_botones=vuelos[0].find_elements_by_xpath('//div[@class=\"sc-dzQEYZ lgvePP\"]//a[@class=\"sc-fMiknA haupI\"]')"
   ]
  },
  {
   "cell_type": "code",
   "execution_count": 40,
   "id": "23241147",
   "metadata": {},
   "outputs": [],
   "source": [
    "def info_intinerario(boton,i,a):\n",
    "    intinerario=[]\n",
    "    boton.click()\n",
    "    time.sleep(15)\n",
    "    if boton.find_elements_by_xpath('//section[@class=\"sc-kecUPG cTIfnj\"]//div[@class=\"sc-ldQhTJ jTPWsD\"]'):\n",
    "        ciudad_salida=boton.find_elements_by_xpath('//section[@class=\"sc-kecUPG UQWqd\"]//div[@class=\"iataCode\"]/span')[0].text\n",
    "        hora_salida=boton.find_elements_by_xpath('//section[@class=\"sc-kecUPG UQWqd\"]//div[@class=\"iataCode\"]/span[@class=\"time\"]')[0].text\n",
    "        No_vuelo=boton.find_elements_by_xpath('//section[@class=\"sc-kecUPG UQWqd\"]//div[@class=\"sc-iDsUSg dmrswg airline-wrapper\"]')[0].text\n",
    "        Modelo_avi=boton.find_elements_by_xpath('//section[@class=\"sc-kecUPG UQWqd\"]//div[@class=\"sc-tVThF ipffvS\"]//span[@class=\"airplane-code\"]')[0].text\n",
    "        duracion_vuelo=boton.find_elements_by_xpath('//section[@class=\"sc-kecUPG UQWqd\"]//div[@class=\"sc-lljKfs ebdZPo\"]/span[@class=\"time\"]')[0].text\n",
    "        ciudad_llegada=boton.find_elements_by_xpath('//section[@class=\"sc-kecUPG UQWqd\"]//div[@class=\"iataCode\"]/span')[2].text\n",
    "        hora_llegada=boton.find_elements_by_xpath('//section[@class=\"sc-kecUPG UQWqd\"]//div[@class=\"iataCode\"]/span[@class=\"time\"]')[1].text\n",
    "        duracion_escala=boton.find_elements_by_xpath('//section[@class=\"sc-kecUPG cTIfnj\"]//div[@class=\"sc-ldQhTJ jTPWsD\"]')[0].text\n",
    "        ciudad_salida2=boton.find_elements_by_xpath('//section[@class=\"sc-kecUPG UQWqd\"]//div[@class=\"iataCode\"]/span')[4].text\n",
    "        hora_salida2=boton.find_elements_by_xpath('//section[@class=\"sc-kecUPG UQWqd\"]//div[@class=\"iataCode\"]/span[@class=\"time\"]')[2].text\n",
    "        No_vuelo2=boton.find_elements_by_xpath('//section[@class=\"sc-kecUPG UQWqd\"]//div[@class=\"sc-iDsUSg dmrswg airline-wrapper\"]')[1].text\n",
    "        Modelo_avi2=boton.find_elements_by_xpath('//section[@class=\"sc-kecUPG UQWqd\"]//div[@class=\"sc-tVThF ipffvS\"]//span[@class=\"airplane-code\"]')[1].text\n",
    "        duracion_vuelo2=boton.find_elements_by_xpath('//section[@class=\"sc-kecUPG UQWqd\"]//div[@class=\"sc-lljKfs ebdZPo\"]/span[@class=\"time\"]')[1].text\n",
    "        ciudad_llegada2=boton.find_elements_by_xpath('//section[@class=\"sc-kecUPG UQWqd\"]//div[@class=\"iataCode\"]/span')[6].text\n",
    "        hora_llegada2=boton.find_elements_by_xpath('//section[@class=\"sc-kecUPG UQWqd\"]//div[@class=\"iataCode\"]/span[@class=\"time\"]')[3].text\n",
    "        dict_info={'ciudad_salida':ciudad_salida,'hora_salida':hora_salida,'No_vuelo':No_vuelo,'Modelo_avi':Modelo_avi,\n",
    "                    'duracion_vuelo':duracion_vuelo,'ciudad_llegada':ciudad_llegada,'hora_llegada':hora_llegada,'duracion_escala':duracion_escala,\n",
    "                    'ciudad_salida2':ciudad_salida2,'hora_salida2':hora_salida2,'No_vuelo2':No_vuelo2,'Modelo_avi2':Modelo_avi2,\n",
    "                    'duracion_vuelo2':duracion_vuelo2,'ciudad_llegada2':ciudad_llegada2,'hora_llegada2':hora_llegada2}\n",
    "        intinerario.append(dict_info)\n",
    "        \n",
    "    else:\n",
    "        ciudad_salida=boton.find_elements_by_xpath('//section[@class=\"sc-kecUPG UQWqd\"]//div[@class=\"iataCode\"]/span')[0].text\n",
    "        hora_salida=boton.find_elements_by_xpath('//section[@class=\"sc-kecUPG UQWqd\"]//div[@class=\"iataCode\"]/span[@class=\"time\"]')[0].text\n",
    "        No_vuelo=boton.find_elements_by_xpath('//section[@class=\"sc-kecUPG UQWqd\"]//div[@class=\"sc-iDsUSg dmrswg airline-wrapper\"]')[0].text\n",
    "        Modelo_avi=boton.find_elements_by_xpath('//section[@class=\"sc-kecUPG UQWqd\"]//div[@class=\"sc-tVThF ipffvS\"]//span[@class=\"airplane-code\"]')[0].text\n",
    "        duracion_vuelo=boton.find_elements_by_xpath('//section[@class=\"sc-kecUPG UQWqd\"]//div[@class=\"sc-lljKfs ebdZPo\"]/span[@class=\"time\"]')[0].text\n",
    "        ciudad_llegada=boton.find_elements_by_xpath('//section[@class=\"sc-kecUPG UQWqd\"]//div[@class=\"iataCode\"]/span')[2].text\n",
    "        hora_llegada=boton.find_elements_by_xpath('//section[@class=\"sc-kecUPG UQWqd\"]//div[@class=\"iataCode\"]/span[@class=\"time\"]')[1].text\n",
    "        dict_info={'ciudad_salida':ciudad_salida,'hora_salida':hora_salida,'No_vuelo':No_vuelo,'Modelo_avi':Modelo_avi,\n",
    "                    'duracion_vuelo':duracion_vuelo,'ciudad_llegada':ciudad_llegada,'hora_llegada':hora_llegada,'duracion_escala':None,\n",
    "                    'ciudad_salida2':None,'hora_salida2':None,'No_vuelo2':None,'Modelo_avi2':None,\n",
    "                    'duracion_vuelo2':None,'ciudad_llegada2':None,'hora_llegada2':None}\n",
    "        intinerario.append(dict_info)\n",
    "        \n",
    "        \n",
    "    cerrar_escalas=boton.find_element_by_xpath(a)\n",
    "    cerrar_escalas.click()\n",
    "    time.sleep(5)\n",
    "\n",
    "    return intinerario"
   ]
  },
  {
   "cell_type": "code",
   "execution_count": 41,
   "id": "93aef2e7",
   "metadata": {},
   "outputs": [],
   "source": [
    "def tarifas(vuelo):\n",
    "    vuelo.click()\n",
    "    time.sleep(9)\n",
    "    tarifas=[]\n",
    "    categoria1=vuelo.find_elements_by_xpath('//div[@class=\"sc-fThejE cwnwKr\"]//span[@class=\"sc-ikTlrC bwousA\"]')[0].text\n",
    "    precio1=vuelo.find_elements_by_xpath('//div[@class=\"sc-fThejE cwnwKr\"]//span[@class=\"sc-buGlAa iJeoEg displayAmount\"]')[0].text\n",
    "    categoria2=vuelo.find_elements_by_xpath('//div[@class=\"sc-fThejE cwnwKr\"]//span[@class=\"sc-ikTlrC bwousA\"]')[1].text\n",
    "    precio2=vuelo.find_elements_by_xpath('//div[@class=\"sc-fThejE cwnwKr\"]//span[@class=\"sc-buGlAa iJeoEg displayAmount\"]')[1].text\n",
    "    dict_info={'categoria1':categoria1,'precio1':precio1,'categoria2':categoria2,'precio2':precio2}\n",
    "    tarifas.append(dict_info)\n",
    "    \n",
    "    return tarifas\n",
    "    "
   ]
  },
  {
   "cell_type": "code",
   "execution_count": 42,
   "id": "b55897d7",
   "metadata": {},
   "outputs": [
    {
     "name": "stdout",
     "output_type": "stream",
     "text": [
      "[[{'ciudad_salida': 'BOG', 'hora_salida': '6:15 p. m.', 'No_vuelo': 'LA7111', 'Modelo_avi': 'Airbus A350-900', 'duracion_vuelo': '10 h', 'ciudad_llegada': 'MAD', 'hora_llegada': '10:15 a. m.', 'duracion_escala': None, 'ciudad_salida2': None, 'hora_salida2': None, 'No_vuelo2': None, 'Modelo_avi2': None, 'duracion_vuelo2': None, 'ciudad_llegada2': None, 'hora_llegada2': None}], [{'ciudad_salida': 'BOG', 'hora_salida': '10:20 p. m.', 'No_vuelo': 'LA1575', 'Modelo_avi': 'Airbus A350-900', 'duracion_vuelo': '10 h', 'ciudad_llegada': 'MAD', 'hora_llegada': '2:20 p. m.', 'duracion_escala': None, 'ciudad_salida2': None, 'hora_salida2': None, 'No_vuelo2': None, 'Modelo_avi2': None, 'duracion_vuelo2': None, 'ciudad_llegada2': None, 'hora_llegada2': None}], [{'ciudad_salida': 'BOG', 'hora_salida': '11:25 a. m.', 'No_vuelo': 'LA4053', 'Modelo_avi': 'Airbus A320', 'duracion_vuelo': '1 h 4 min', 'ciudad_llegada': 'CLO', 'hora_llegada': '12:29 p. m.', 'duracion_escala': 'Conexión Cali(Cambio de avión)\\n10 h 6 min', 'ciudad_salida2': 'CLO', 'hora_salida2': '10:35 p. m.', 'No_vuelo2': 'LA7114', 'Modelo_avi2': 'Airbus A330-200', 'duracion_vuelo2': '10 h 10 min', 'ciudad_llegada2': 'MAD', 'hora_llegada2': '2:45 p. m.'}]]\n",
      "[[{'categoria1': 'plus', 'precio1': 'COP 2.571.100,00', 'categoria2': 'top', 'precio2': 'COP 2.870.770,00'}], [{'categoria1': 'plus', 'precio1': 'COP 2.571.100,00', 'categoria2': 'top', 'precio2': 'COP 2.870.770,00'}], [{'categoria1': 'plus', 'precio1': 'COP 2.576.800,00', 'categoria2': 'top', 'precio2': 'COP 2.876.470,00'}]]\n"
     ]
    }
   ],
   "source": [
    "diccionario=[]\n",
    "tarifas_fin=[]\n",
    "for i in range (0,3):\n",
    "    xpath_cerrar=[]\n",
    "    for a in range (0,len(lista_botones)):\n",
    "        p1=('//*[@id=\"itinerary-modal-')\n",
    "        p2=str(a)\n",
    "        p3=('-dialog-close\"]')\n",
    "        xpath=p1+p2+p3\n",
    "        xpath_cerrar.append(xpath)\n",
    "    \n",
    "    diccionario.append(info_intinerario(lista_botones[i],i,xpath_cerrar[i]))\n",
    "    \n",
    "for i in range(0,3):\n",
    "    tarifas_fin.append(tarifas(vuelos[i]))\n",
    "    \n",
    "print(diccionario)\n",
    "print(tarifas_fin)"
   ]
  },
  {
   "cell_type": "code",
   "execution_count": 43,
   "id": "530adce4",
   "metadata": {},
   "outputs": [],
   "source": [
    "driver.close()"
   ]
  },
  {
   "cell_type": "code",
   "execution_count": null,
   "id": "87ab9d46",
   "metadata": {},
   "outputs": [],
   "source": []
  },
  {
   "cell_type": "code",
   "execution_count": null,
   "id": "117b7933",
   "metadata": {},
   "outputs": [],
   "source": []
  },
  {
   "cell_type": "code",
   "execution_count": null,
   "id": "fdf4b305",
   "metadata": {},
   "outputs": [],
   "source": []
  },
  {
   "cell_type": "code",
   "execution_count": null,
   "id": "4f4f5bf1",
   "metadata": {},
   "outputs": [],
   "source": []
  },
  {
   "cell_type": "code",
   "execution_count": null,
   "id": "3271ba3b",
   "metadata": {},
   "outputs": [],
   "source": []
  },
  {
   "cell_type": "code",
   "execution_count": null,
   "id": "5643a95f",
   "metadata": {},
   "outputs": [],
   "source": []
  },
  {
   "cell_type": "code",
   "execution_count": null,
   "id": "bc999465",
   "metadata": {},
   "outputs": [],
   "source": []
  },
  {
   "cell_type": "code",
   "execution_count": null,
   "id": "e7982aa6",
   "metadata": {},
   "outputs": [],
   "source": []
  },
  {
   "cell_type": "code",
   "execution_count": null,
   "id": "0fca27f4",
   "metadata": {},
   "outputs": [],
   "source": []
  },
  {
   "cell_type": "code",
   "execution_count": null,
   "id": "8e7fd584",
   "metadata": {},
   "outputs": [],
   "source": []
  },
  {
   "cell_type": "code",
   "execution_count": 22,
   "id": "a95a83c3",
   "metadata": {},
   "outputs": [],
   "source": []
  },
  {
   "cell_type": "code",
   "execution_count": null,
   "id": "631b48b5",
   "metadata": {},
   "outputs": [],
   "source": []
  }
 ],
 "metadata": {
  "kernelspec": {
   "display_name": "Python 3",
   "language": "python",
   "name": "python3"
  },
  "language_info": {
   "codemirror_mode": {
    "name": "ipython",
    "version": 3
   },
   "file_extension": ".py",
   "mimetype": "text/x-python",
   "name": "python",
   "nbconvert_exporter": "python",
   "pygments_lexer": "ipython3",
   "version": "3.8.8"
  }
 },
 "nbformat": 4,
 "nbformat_minor": 5
}
